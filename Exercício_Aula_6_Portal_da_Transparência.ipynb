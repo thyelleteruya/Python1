{
  "nbformat": 4,
  "nbformat_minor": 0,
  "metadata": {
    "colab": {
      "name": "Exercício Aula 6 - Portal da Transparência.ipynb",
      "provenance": [],
      "collapsed_sections": [],
      "toc_visible": true,
      "include_colab_link": true
    },
    "kernelspec": {
      "name": "python3",
      "display_name": "Python 3"
    }
  },
  "cells": [
    {
      "cell_type": "markdown",
      "metadata": {
        "id": "view-in-github",
        "colab_type": "text"
      },
      "source": [
        "<a href=\"https://colab.research.google.com/github/thyelleteruya/Python1/blob/main/Exerc%C3%ADcio_Aula_6_Portal_da_Transpar%C3%AAncia.ipynb\" target=\"_parent\"><img src=\"https://colab.research.google.com/assets/colab-badge.svg\" alt=\"Open In Colab\"/></a>"
      ]
    },
    {
      "cell_type": "markdown",
      "metadata": {
        "id": "7ngE8db6piW_"
      },
      "source": [
        "**1 - Configurando o Spark no Python**\n",
        "\n",
        "Etapa responsável por realizar o Download e configuração do Apache Spark."
      ]
    },
    {
      "cell_type": "code",
      "metadata": {
        "id": "IrW5sVN1qcQ8"
      },
      "source": [
        "#Instacao e configuracao do Java 8\n",
        "!apt-get install openjdk-8-jdk-headless -qq > /dev/null\n",
        "#Download do Apache Spark\n",
        "!wget -q http://apache.osuosl.org/spark/spark-3.0.1/spark-3.0.1-bin-hadoop3.2.tgz\n",
        "#Descompatacao do Apache Spark\n",
        "!tar xf spark-3.0.1-bin-hadoop3.2.tgz\n",
        "#Instalacao do Findspark\n",
        "!pip install -q findspark"
      ],
      "execution_count": 2,
      "outputs": []
    },
    {
      "cell_type": "markdown",
      "metadata": {
        "id": "q5qt9EzIr7EC"
      },
      "source": [
        "**2 - Configurando o Ambiente**\n",
        "\n",
        "Etapa responsável por configurar o ambiente do Spark"
      ]
    },
    {
      "cell_type": "code",
      "metadata": {
        "id": "w-Je7w5hsHUv"
      },
      "source": [
        "import os\n",
        "os.environ[\"JAVA_HOME\"] = \"/usr/lib/jvm/java-8-openjdk-amd64\"\n",
        "os.environ[\"SPARK_HOME\"] = \"/content/spark-3.0.1-bin-hadoop3.2\""
      ],
      "execution_count": 3,
      "outputs": []
    },
    {
      "cell_type": "markdown",
      "metadata": {
        "id": "8fM2wYcPseoa"
      },
      "source": [
        "**3 - Configurando a sessão do Spark**\n",
        "\n",
        "Etapa responsável por inicializar a sessão do Spark"
      ]
    },
    {
      "cell_type": "code",
      "metadata": {
        "id": "4m86_v1Isqo1"
      },
      "source": [
        "import findspark\n",
        "findspark.init()\n",
        "from pyspark.sql import SparkSession\n",
        "spark = SparkSession.builder.master(\"local[*]\").getOrCreate()"
      ],
      "execution_count": 4,
      "outputs": []
    },
    {
      "cell_type": "markdown",
      "metadata": {
        "id": "sGR0NhUms_tW"
      },
      "source": [
        "**4 - Validando a Configuração e Versão do Spark**\n",
        "\n",
        "Etapa de verificação "
      ]
    },
    {
      "cell_type": "code",
      "metadata": {
        "id": "zz8b2dOjtDoV",
        "outputId": "bf29fd24-7538-4c99-b0e9-6ffe3a10b11a",
        "colab": {
          "base_uri": "https://localhost:8080/",
          "height": 34
        }
      },
      "source": [
        "import pyspark\n",
        "print(pyspark.__version__)"
      ],
      "execution_count": 5,
      "outputs": [
        {
          "output_type": "stream",
          "text": [
            "3.0.1\n"
          ],
          "name": "stdout"
        }
      ]
    },
    {
      "cell_type": "markdown",
      "metadata": {
        "id": "ly0F0jJcuB2k"
      },
      "source": [
        "**5 - Download dos Dados do Portal da Transparência**\n",
        "\n",
        "Etapa responsável por realizar o Download das informações de Gastos por meio de cartão de pagamento providas através da API: http://www.portaltransparencia.gov.br/api-de-dados/cartoes?pagina=1"
      ]
    },
    {
      "cell_type": "code",
      "metadata": {
        "id": "P1su3TfNuFVh",
        "outputId": "880f11a0-1395-439c-9cb7-a269b6ba9d64",
        "colab": {
          "base_uri": "https://localhost:8080/",
          "height": 68
        }
      },
      "source": [
        "!curl -X GET --header 'Accept: application/json' --header 'chave-api-dados: 43a93a2a4797fad79da698cd394ca2c8' 'http://www.portaltransparencia.gov.br/api-de-dados/cepim?pagina=1' > consulta_portal_transparencia.json"
      ],
      "execution_count": 16,
      "outputs": [
        {
          "output_type": "stream",
          "text": [
            "  % Total    % Received % Xferd  Average Speed   Time    Time     Time  Current\n",
            "                                 Dload  Upload   Total   Spent    Left  Speed\n",
            "100 26440    0 26440    0     0  17828      0 --:--:--  0:00:01 --:--:-- 17828\n"
          ],
          "name": "stdout"
        }
      ]
    },
    {
      "cell_type": "markdown",
      "metadata": {
        "id": "fyfxjMmtvROc"
      },
      "source": [
        "**6 - Carregando os dados no Spark**\n",
        "\n",
        "Etapa paga a carga de dados no Spark."
      ]
    },
    {
      "cell_type": "code",
      "metadata": {
        "id": "kESr_0SfwDR9"
      },
      "source": [
        "#Instancia o contexto do Spark\n",
        "sc = spark.sparkContext\n",
        "#Realiza a leitura da nossa consulta realizada na API do Governo Federal \n",
        "path = \"/content/consulta_portal_transparencia.json\"\n",
        "#Declara dataframe df com o conteudo da api que estava no JSON\n",
        "df = spark.read.json(path)"
      ],
      "execution_count": 17,
      "outputs": []
    },
    {
      "cell_type": "markdown",
      "metadata": {
        "id": "kLEJ7U5twj06"
      },
      "source": [
        "**7 - Explorando os dados que foram obtidos**\n",
        "\n",
        "Etapa de exploração dos dados."
      ]
    },
    {
      "cell_type": "code",
      "metadata": {
        "id": "cuerELhJwqQi",
        "outputId": "f7183857-803d-49fc-a7d2-acc961316229",
        "colab": {
          "base_uri": "https://localhost:8080/",
          "height": 1000
        }
      },
      "source": [
        "#Imprime a estrutura de dados do nosso dataframe\n",
        "df.printSchema()\n",
        "#Imprime uma amosta de dados ( para especificar as linhas basta colocar a quantidade entre ())\n",
        "df.show()"
      ],
      "execution_count": 18,
      "outputs": [
        {
          "output_type": "stream",
          "text": [
            "root\n",
            " |-- convenio: struct (nullable = true)\n",
            " |    |-- codigo: string (nullable = true)\n",
            " |    |-- numero: string (nullable = true)\n",
            " |    |-- objeto: string (nullable = true)\n",
            " |-- dataReferencia: string (nullable = true)\n",
            " |-- id: long (nullable = true)\n",
            " |-- motivo: string (nullable = true)\n",
            " |-- orgaoSuperior: struct (nullable = true)\n",
            " |    |-- cnpj: string (nullable = true)\n",
            " |    |-- codigoSIAFI: string (nullable = true)\n",
            " |    |-- descricaoPoder: string (nullable = true)\n",
            " |    |-- nome: string (nullable = true)\n",
            " |    |-- orgaoMaximo: struct (nullable = true)\n",
            " |    |    |-- codigo: string (nullable = true)\n",
            " |    |    |-- nome: string (nullable = true)\n",
            " |    |    |-- sigla: string (nullable = true)\n",
            " |    |-- sigla: string (nullable = true)\n",
            " |-- pessoaJuridica: struct (nullable = true)\n",
            " |    |-- cnae: struct (nullable = true)\n",
            " |    |    |-- classe: string (nullable = true)\n",
            " |    |    |-- codigoClasse: string (nullable = true)\n",
            " |    |    |-- codigoDivisao: string (nullable = true)\n",
            " |    |    |-- codigoGrupo: string (nullable = true)\n",
            " |    |    |-- codigoSecao: string (nullable = true)\n",
            " |    |    |-- codigoSubclasse: string (nullable = true)\n",
            " |    |    |-- divisao: string (nullable = true)\n",
            " |    |    |-- grupo: string (nullable = true)\n",
            " |    |    |-- secao: string (nullable = true)\n",
            " |    |    |-- subclasse: string (nullable = true)\n",
            " |    |-- codigoFormatado: string (nullable = true)\n",
            " |    |-- complementoEndereco: string (nullable = true)\n",
            " |    |-- dataAbertura: string (nullable = true)\n",
            " |    |-- descricaoLogradouro: string (nullable = true)\n",
            " |    |-- enderecoEletronico: string (nullable = true)\n",
            " |    |-- localidadePessoa: string (nullable = true)\n",
            " |    |-- municipio: struct (nullable = true)\n",
            " |    |    |-- codigoIBGE: string (nullable = true)\n",
            " |    |    |-- nomeIBGE: string (nullable = true)\n",
            " |    |    |-- pais: string (nullable = true)\n",
            " |    |    |-- uf: struct (nullable = true)\n",
            " |    |    |    |-- nome: string (nullable = true)\n",
            " |    |    |    |-- sigla: string (nullable = true)\n",
            " |    |-- naturezaJuridica: struct (nullable = true)\n",
            " |    |    |-- codigo: string (nullable = true)\n",
            " |    |    |-- codigoTipo: string (nullable = true)\n",
            " |    |    |-- descricao: string (nullable = true)\n",
            " |    |    |-- descricaoTipo: string (nullable = true)\n",
            " |    |-- nome: string (nullable = true)\n",
            " |    |-- nomeBairro: string (nullable = true)\n",
            " |    |-- nomeFantasiaReceita: string (nullable = true)\n",
            " |    |-- numeroCEP: string (nullable = true)\n",
            " |    |-- numeroEndereco: string (nullable = true)\n",
            " |    |-- numeroInscricaoSocial: string (nullable = true)\n",
            " |    |-- numeroTelefone: string (nullable = true)\n",
            " |    |-- razaoSocialReceita: string (nullable = true)\n",
            " |    |-- tipoCodigo: string (nullable = true)\n",
            " |    |-- tipoPessoa: string (nullable = true)\n",
            "\n",
            "+--------------------+--------------+--------+--------------------+--------------------+--------------------+\n",
            "|            convenio|dataReferencia|      id|              motivo|       orgaoSuperior|      pessoaJuridica|\n",
            "+--------------------+--------------+--------+--------------------+--------------------+--------------------+\n",
            "|[-1, S/I, Sem inf...|    21/10/2020|93400212|NAO APRESENTACAO ...|[00394494000136, ...|[[Sem informação,...|\n",
            "|[752256, 00018/20...|    21/10/2020|93400213|IRREGULARIDADE NA...|[00394494000136, ...|[[Sem informação,...|\n",
            "|[544943, 19403520...|    21/10/2020|93400214|INSTAURACAO DE TO...|[00394494000136, ...|[[Sem informação,...|\n",
            "|[791535, 00013/20...|    21/10/2020|93400215|MOTIVO NÃO ESPECI...|[00394494000136, ...|[[Sem informação,...|\n",
            "|[633750, 20033059...|    21/10/2020|93400217|INSTAURACAO DE TO...|[00394494000136, ...|[[Sem informação,...|\n",
            "|[633752, 20033059...|    21/10/2020|93400218|INSTAURACAO DE TO...|[00394494000136, ...|[[Sem informação,...|\n",
            "|[633754, 20033059...|    21/10/2020|93400219|INSTAURACAO DE TO...|[00394494000136, ...|[[Sem informação,...|\n",
            "|[598626, 19415257...|    21/10/2020|93400220|NAO APRESENTACAO ...|[00394494000136, ...|[[Sem informação,...|\n",
            "|[-1, S/I, Sem inf...|    21/10/2020|93400221|INSTAURACAO DE TO...|[00394494000136, ...|[[Sem informação,...|\n",
            "|[822628, 00012/20...|    21/10/2020|93400222|NAO EXECUTOU TOTA...|[00394494000136, ...|[[Pesquisa e dese...|\n",
            "|[515515, 054/2004...|    21/10/2020|93400223|IRREGULARIDADE NA...|[00394494000136, ...|[[Sem informação,...|\n",
            "|[539245, 20033320...|    21/10/2020|93400224|IRREGULARIDADE NA...|[00394494000136, ...|[[Sem informação,...|\n",
            "|[-1, S/I, Sem inf...|    21/10/2020|93400226|IRREGULARIDADE NA...|[00394494000136, ...|[[Sem informação,...|\n",
            "|[-1, S/I, Sem inf...|    21/10/2020|93400227|IRREGULARIDADE NA...|[00394494000136, ...|[[Sem informação,...|\n",
            "|[702978, 00001/20...|    21/10/2020|93400228|MOTIVO NÃO ESPECI...|[00394494000136, ...|[[Sem informação,...|\n",
            "+--------------------+--------------+--------+--------------------+--------------------+--------------------+\n",
            "\n"
          ],
          "name": "stdout"
        }
      ]
    },
    {
      "cell_type": "markdown",
      "metadata": {
        "id": "L312L6PcybTM"
      },
      "source": [
        "**8 - Tratando e transformando os dados**"
      ]
    },
    {
      "cell_type": "code",
      "metadata": {
        "id": "L5673enDyiXd",
        "outputId": "56c18119-9528-4a54-a4c6-8822735ec7cf",
        "colab": {
          "base_uri": "https://localhost:8080/",
          "height": 357
        }
      },
      "source": [
        "dfPrepared = df.selectExpr(\"motivo\",\"dataReferencia\",\"orgaoSuperior\")\n",
        "dfPrepared.show()"
      ],
      "execution_count": 19,
      "outputs": [
        {
          "output_type": "stream",
          "text": [
            "+--------------------+--------------+--------------------+\n",
            "|              motivo|dataReferencia|       orgaoSuperior|\n",
            "+--------------------+--------------+--------------------+\n",
            "|NAO APRESENTACAO ...|    21/10/2020|[00394494000136, ...|\n",
            "|IRREGULARIDADE NA...|    21/10/2020|[00394494000136, ...|\n",
            "|INSTAURACAO DE TO...|    21/10/2020|[00394494000136, ...|\n",
            "|MOTIVO NÃO ESPECI...|    21/10/2020|[00394494000136, ...|\n",
            "|INSTAURACAO DE TO...|    21/10/2020|[00394494000136, ...|\n",
            "|INSTAURACAO DE TO...|    21/10/2020|[00394494000136, ...|\n",
            "|INSTAURACAO DE TO...|    21/10/2020|[00394494000136, ...|\n",
            "|NAO APRESENTACAO ...|    21/10/2020|[00394494000136, ...|\n",
            "|INSTAURACAO DE TO...|    21/10/2020|[00394494000136, ...|\n",
            "|NAO EXECUTOU TOTA...|    21/10/2020|[00394494000136, ...|\n",
            "|IRREGULARIDADE NA...|    21/10/2020|[00394494000136, ...|\n",
            "|IRREGULARIDADE NA...|    21/10/2020|[00394494000136, ...|\n",
            "|IRREGULARIDADE NA...|    21/10/2020|[00394494000136, ...|\n",
            "|IRREGULARIDADE NA...|    21/10/2020|[00394494000136, ...|\n",
            "|MOTIVO NÃO ESPECI...|    21/10/2020|[00394494000136, ...|\n",
            "+--------------------+--------------+--------------------+\n",
            "\n"
          ],
          "name": "stdout"
        }
      ]
    },
    {
      "cell_type": "markdown",
      "metadata": {
        "id": "XhP-JfBPyi3j"
      },
      "source": [
        "**9 - Analise das informações e resultados obtidos**\n",
        "\n",
        "Etapa onde são realizadas as analises utilizando linguagem SQL para por exemplo descobrir os maiores motivos de impedimentos das Entidades Privadas sem Fins Lucrativos."
      ]
    },
    {
      "cell_type": "markdown",
      "metadata": {
        "id": "KBslrWo5MCvF"
      },
      "source": [
        ""
      ]
    },
    {
      "cell_type": "code",
      "metadata": {
        "id": "EcIoWB3V0gmu"
      },
      "source": [
        "#Declara tabela temporaria no SparkSQL\n",
        "dfPrepared.createOrReplaceTempView(\"dfPrepared\")"
      ],
      "execution_count": 22,
      "outputs": []
    },
    {
      "cell_type": "code",
      "metadata": {
        "id": "DU6IL16T0uaZ",
        "outputId": "f30799aa-2ad6-4a5d-eac3-165a83a48525",
        "colab": {
          "base_uri": "https://localhost:8080/",
          "height": 221
        }
      },
      "source": [
        "topTravels = spark.sql(\"select count(*),motivo from dfPrepared group by 2 order by 1 desc\")\n",
        "topTravels.show()"
      ],
      "execution_count": 23,
      "outputs": [
        {
          "output_type": "stream",
          "text": [
            "+--------+--------------------+\n",
            "|count(1)|              motivo|\n",
            "+--------+--------------------+\n",
            "|       5|INSTAURACAO DE TO...|\n",
            "|       3|IRREGULARIDADE NA...|\n",
            "|       2|MOTIVO NÃO ESPECI...|\n",
            "|       2|IRREGULARIDADE NA...|\n",
            "|       1|NAO APRESENTACAO ...|\n",
            "|       1|NAO APRESENTACAO ...|\n",
            "|       1|NAO EXECUTOU TOTA...|\n",
            "+--------+--------------------+\n",
            "\n"
          ],
          "name": "stdout"
        }
      ]
    }
  ]
}