{
 "cells": [
  {
   "cell_type": "code",
   "execution_count": null,
   "metadata": {},
   "outputs": [],
   "source": [
    "#Exercício Homem no Poço"
   ]
  },
  {
   "cell_type": "code",
   "execution_count": 2,
   "metadata": {},
   "outputs": [
    {
     "name": "stdout",
     "output_type": "stream",
     "text": [
      "9\n"
     ]
    }
   ],
   "source": [
    "class Homem:\n",
    "    \n",
    "    #9 Variaveis Globais\n",
    "    \n",
    "    distanciaPercorrida = 0\n",
    "    \n",
    "    distanciaDia = 0\n",
    "    \n",
    "    distanciaNoite = 0\n",
    "    \n",
    "    contadorDias = 0\n",
    "\n",
    "    #Constructor\n",
    "    \n",
    "    def __init__ (self, distanciaDia, distanciaNoite):\n",
    "        self.distanciaDia = distanciaDia\n",
    "        self.distanciaNoite = distanciaNoite\n",
    "    \n",
    "    #Primeiro Metodo\n",
    "    \n",
    "    def subir(self):\n",
    "        self.distanciaPercorrida += self.distanciaDia\n",
    "        self.contadorDias += 1\n",
    "        if self.distanciaPercorrida < 10:\n",
    "            self.distanciaPercorrida -= self.distanciaNoite\n",
    "        return self.contadorDias      \n",
    "    #Segundo Metodo\n",
    "\n",
    "    def contarDias(self):\n",
    "        while self.distanciaPercorrida < 10:\n",
    "            self.subir()\n",
    "        return self.contadorDias\n",
    "    \n",
    "    \n",
    "#Codigo usando a classe Homem    \n",
    "    \n",
    "h = Homem (2, 1)\n",
    "print (h.contarDias())\n",
    "\n",
    "#Codigo funcionando!!"
   ]
  },
  {
   "cell_type": "code",
   "execution_count": null,
   "metadata": {},
   "outputs": [],
   "source": []
  }
 ],
 "metadata": {
  "kernelspec": {
   "display_name": "Python 3",
   "language": "python",
   "name": "python3"
  },
  "language_info": {
   "codemirror_mode": {
    "name": "ipython",
    "version": 3
   },
   "file_extension": ".py",
   "mimetype": "text/x-python",
   "name": "python",
   "nbconvert_exporter": "python",
   "pygments_lexer": "ipython3",
   "version": "3.8.3"
  }
 },
 "nbformat": 4,
 "nbformat_minor": 4
}
